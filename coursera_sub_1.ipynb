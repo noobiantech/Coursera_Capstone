{
  "nbformat": 4,
  "nbformat_minor": 0,
  "metadata": {
    "colab": {
      "name": "coursera_sub_1.ipynb",
      "provenance": [],
      "authorship_tag": "ABX9TyPDOvvwhjeJSHUVXJZNJl8G",
      "include_colab_link": true
    },
    "kernelspec": {
      "name": "python3",
      "display_name": "Python 3"
    }
  },
  "cells": [
    {
      "cell_type": "markdown",
      "metadata": {
        "id": "view-in-github",
        "colab_type": "text"
      },
      "source": [
        "<a href=\"https://colab.research.google.com/github/noobiantech/Coursera_Capstone/blob/main/coursera_sub_1.ipynb\" target=\"_parent\"><img src=\"https://colab.research.google.com/assets/colab-badge.svg\" alt=\"Open In Colab\"/></a>"
      ]
    },
    {
      "cell_type": "markdown",
      "metadata": {
        "id": "VIHC199vEiJP"
      },
      "source": [
        "Abdullah Saleh's Coursera Capstone project!\n",
        "\n",
        "Submission 1: Add libraries and print text!"
      ]
    },
    {
      "cell_type": "code",
      "metadata": {
        "id": "2o1kbLrzEOn1"
      },
      "source": [
        "import pandas as pd\n",
        "import numpy as np"
      ],
      "execution_count": null,
      "outputs": []
    },
    {
      "cell_type": "code",
      "metadata": {
        "colab": {
          "base_uri": "https://localhost:8080/"
        },
        "id": "rntzrNw2EvG_",
        "outputId": "cd22775c-bf19-4d15-cea8-8c3204daa9bd"
      },
      "source": [
        "print(\"Hello Capstone Project Course!\")"
      ],
      "execution_count": null,
      "outputs": [
        {
          "output_type": "stream",
          "text": [
            "Hello Capstone Project Course!\n"
          ],
          "name": "stdout"
        }
      ]
    }
  ]
}